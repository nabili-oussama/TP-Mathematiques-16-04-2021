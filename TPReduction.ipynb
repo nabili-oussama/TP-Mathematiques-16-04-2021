{
 "cells": [
  {
   "cell_type": "code",
   "execution_count": 2,
   "metadata": {},
   "outputs": [],
   "source": [
    "import numpy as np"
   ]
  },
  {
   "cell_type": "code",
   "execution_count": 3,
   "metadata": {},
   "outputs": [],
   "source": [
    "import random "
   ]
  },
  {
   "cell_type": "code",
   "execution_count": 4,
   "metadata": {},
   "outputs": [
    {
     "name": "stdout",
     "output_type": "stream",
     "text": [
      " le rang est : 3 \n",
      " le determinant : -25.000000000000007 \n",
      " la trace : 5 \n",
      " 4 + 1 + 0 = 5 \n",
      " les valeurs propres de A : [ 5.97344343 -2.58959802  1.61615459] \n",
      " la somme des valeurs propres : 5.000000000000005 \n",
      "\n",
      "verification det(landa*I_n - A) : 1.8212195514918646e-13 \n",
      "\n",
      "verification det(landa*I_n - A) : 7.695247105675758e-15 \n",
      "\n",
      "verification det(landa*I_n - A) : 9.816722705639634e-15 \n",
      "\n",
      "[-3.21201905 -4.45018175 -2.35814385] [-3.21201905 -4.45018175 -2.35814385] \n",
      "\n",
      "[ 1.72953303 -0.23461749 -1.91303112] [ 1.72953303 -0.23461749 -1.91303112] \n",
      "\n",
      "[ 0.83165445 -1.06809972  0.88287571] [ 0.83165445 -1.06809972  0.88287571] \n",
      "\n",
      "[[1.00000000e+00 2.00000000e+00 3.00000000e+00]\n",
      " [2.00000000e+00 4.00000000e+00 1.00000000e+00]\n",
      " [3.00000000e+00 1.00000000e+00 1.12544347e-15]]\n"
     ]
    }
   ],
   "source": [
    "###ex1\n",
    "A = np.array([[1,2,3],\n",
    "              [2,4,1],\n",
    "              [3,1,0]])\n",
    "\n",
    "print(\" le rang est :\",np.linalg.matrix_rank(A),\"\\n\",\n",
    "      \"le determinant :\",np.linalg.det(A),\"\\n\",\n",
    "      \"la trace :\",np.trace(A),\"\\n\",\n",
    "      \"4 + 1 + 0 =\",4+1+0,\"\\n\",\n",
    "      \"les valeurs propres de A :\",np.linalg.eigvals(A)\n",
    "      ,\"\\n\",\n",
    "      \"la somme des valeurs propres :\",sum(np.linalg.eigvals(A)),\"\\n\")\n",
    "for i in np.linalg.eigvals(A):   \n",
    "    print(\"verification det(landa*I_n - A) :\",np.linalg.det((i*np.eye(3))-A),\"\\n\")\n",
    "    \n",
    "    \n",
    "    \n",
    "(x,y)=np.linalg.eig(A) \n",
    "\n",
    "\n",
    "\n",
    "y = np.transpose(y)\n",
    "\n",
    "\n",
    "for i in range(3):\n",
    "    vp = np.transpose(y[i])\n",
    "    print( np.dot(A,vp), x[i]*vp,\"\\n\")\n",
    "    \n",
    "    \n",
    "D = np.eye(3)\n",
    "\n",
    "for i in range(3):\n",
    "    D[i][i]= np.linalg.eigvals(A)[i]\n",
    "    \n",
    "print(np.dot(np.dot(np.transpose(y),D),np.linalg.inv(np.transpose(y))))\n"
   ]
  },
  {
   "cell_type": "code",
   "execution_count": 5,
   "metadata": {},
   "outputs": [],
   "source": [
    "np.linalg.matrix_rank?"
   ]
  },
  {
   "cell_type": "code",
   "execution_count": 6,
   "metadata": {},
   "outputs": [],
   "source": [
    "np.linalg.det?"
   ]
  },
  {
   "cell_type": "code",
   "execution_count": 15,
   "metadata": {},
   "outputs": [],
   "source": [
    "np.trace?"
   ]
  },
  {
   "cell_type": "code",
   "execution_count": 28,
   "metadata": {},
   "outputs": [],
   "source": [
    "np.linalg.eigvals?"
   ]
  },
  {
   "cell_type": "code",
   "execution_count": 29,
   "metadata": {},
   "outputs": [
    {
     "data": {
      "text/plain": [
       "array([[0., 0., 0.],\n",
       "       [0., 0., 0.],\n",
       "       [0., 0., 0.]])"
      ]
     },
     "execution_count": 29,
     "metadata": {},
     "output_type": "execute_result"
    }
   ],
   "source": [
    "np.eye(3)-np.eye(3)"
   ]
  },
  {
   "cell_type": "code",
   "execution_count": 44,
   "metadata": {},
   "outputs": [],
   "source": [
    "np.linalg.eig?"
   ]
  },
  {
   "cell_type": "code",
   "execution_count": 7,
   "metadata": {},
   "outputs": [
    {
     "data": {
      "text/plain": [
       "array([[1, 2, 3],\n",
       "       [2, 4, 1],\n",
       "       [3, 1, 0]])"
      ]
     },
     "execution_count": 7,
     "metadata": {},
     "output_type": "execute_result"
    }
   ],
   "source": [
    "A=np.transpose(A)\n",
    "A"
   ]
  },
  {
   "cell_type": "code",
   "execution_count": 8,
   "metadata": {},
   "outputs": [],
   "source": [
    "A = np.array([[1,2,3],\n",
    "              [2,4,1],\n",
    "              [3,1,0]])\n"
   ]
  },
  {
   "cell_type": "code",
   "execution_count": 9,
   "metadata": {},
   "outputs": [],
   "source": [
    "def norme(x):\n",
    "    return max([max(x),abs(min(x))])\n",
    "               \n",
    "#print(norme(np.array([1,-8,5])))\n",
    "\n",
    "def f(b,A):\n",
    "    return (1/norme(np.dot(b,A)))*np.dot(b,A)\n",
    "\n",
    "def puissanceIteree(A,k):\n",
    "    b0= [np.random.random_sample() for i in range(len(A))]\n",
    "    i = 1\n",
    "    while i<k:\n",
    "        b0 = f(b0,A)\n",
    "        i+=1\n",
    "    return b0\n",
    "\n",
    "def vecteurPropre(A ,eps):\n",
    "    b0= [np.random.random_sample() for i in range(len(A))]\n",
    "    bk= f(b0,A)\n",
    "    while norme(b0-bk)>eps or norme(b0+bk)>eps:\n",
    "        b0=bk\n",
    "        bk = f(bk,A)\n",
    "    return b0\n",
    "\n",
    "\n",
    "\n"
   ]
  },
  {
   "cell_type": "code",
   "execution_count": 16,
   "metadata": {},
   "outputs": [],
   "source": [
    "np.random.random_sample?"
   ]
  }
 ],
 "metadata": {
  "kernelspec": {
   "display_name": "Python 3",
   "language": "python",
   "name": "python3"
  },
  "language_info": {
   "codemirror_mode": {
    "name": "ipython",
    "version": 3
   },
   "file_extension": ".py",
   "mimetype": "text/x-python",
   "name": "python",
   "nbconvert_exporter": "python",
   "pygments_lexer": "ipython3",
   "version": "3.8.3"
  }
 },
 "nbformat": 4,
 "nbformat_minor": 4
}
