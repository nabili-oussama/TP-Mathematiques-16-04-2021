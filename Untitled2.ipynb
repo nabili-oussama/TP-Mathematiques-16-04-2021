{
 "cells": [
  {
   "cell_type": "code",
   "execution_count": 2,
   "metadata": {},
   "outputs": [],
   "source": [
    "#ex1 \n",
    "def dimensions(A):\n",
    "    return (len(A),len(A[0]))\n",
    "\n",
    "def affiche(A):\n",
    "    for ligne in A :\n",
    "        print(ligne)\n",
    "\n",
    "def matriceNulle(n,p):\n",
    "    return [[0 for j in range(p)] for i in range(n)]\n",
    "\n",
    "def matriceUnite(n):\n",
    "    B = matriceNulle(n,n)\n",
    "    for i in range(len(B)):\n",
    "        B[i][i]=1\n",
    "    return B\n",
    "    \n",
    "    \n",
    "def transpose(A):\n",
    "    n,p = dimensions(A)\n",
    "    B = matriceNulle(p,n)\n",
    "    for i in range(n) :\n",
    "        for j in range(p):\n",
    "            B[j][i]=A[i][j]\n",
    "    return B\n",
    "\n",
    "def estTriangulaireSup(A):\n",
    "    (n,p) = dimensions(A)\n",
    "    assert n==p\n",
    "    for i in range(1,len(A)):\n",
    "        for j in range(0,i):\n",
    "            if A[i][j]!=0:\n",
    "                return False\n",
    "    return True \n",
    "\n",
    "#M = [[1,2,3,4],[0,2,3,4],[0,0,3,4],[0,0,0,4]]\n",
    "#print(estTriangulaireSup(M))\n",
    "\n"
   ]
  },
  {
   "cell_type": "code",
   "execution_count": 9,
   "metadata": {},
   "outputs": [
    {
     "data": {
      "text/plain": [
       "2147483647"
      ]
     },
     "execution_count": 9,
     "metadata": {},
     "output_type": "execute_result"
    }
   ],
   "source": [
    "#ex2 \n",
    "def sommeMatrice(A,B):\n",
    "    (n,p) = dimensions(A)\n",
    "    (q,r) = dimensions(B)\n",
    "    assert (n,p) == (q,r)\n",
    "    C = matriceNulle(n,p)\n",
    "    for i in range(n):\n",
    "        for j in range(p):\n",
    "            C[i][j] = A[i][j]+B[i][j]\n",
    "    return C\n",
    "\n",
    "#A = [[1,2,3,4],[0,2,3,4]]\n",
    "#B = [[0,0,3,4],[0,0,0,4]]\n",
    "\n",
    "#print(sommeMatrice(A,B))\n",
    "\n",
    "\n",
    "def multScalaire(A,k):\n",
    "    (n,p) = dimensions(A)\n",
    "    for i in range(n):\n",
    "        for j in range(p):\n",
    "            A[i][j] = k*A[i][j]\n",
    "    return A \n",
    "\n",
    "#print(multScalaire(A,5))\n",
    "\n",
    "def produitMatrice(A,B):\n",
    "    (n,p) = dimensions(A)\n",
    "    (q,r) = dimensions(B)\n",
    "    C = matriceNulle(n,r)\n",
    "    assert p == q\n",
    "    for _ in range(n):\n",
    "        for i in range(r):\n",
    "            for j in range(p):\n",
    "                C[_][i] = C[_][i] + A[_][j]*B[j][i]\n",
    "    return C\n",
    "                \n",
    "#A = [[1,2,3],[4,5,6]]\n",
    "#B = [[1,4],[2,5],[3,6]]\n",
    "\n",
    "#print(produitMatrice(A,B))\n",
    "\n",
    "def blocs(A,a,b):\n",
    "    (n,p) = dimensions(A)\n",
    "    B = matriceNulle(a*n,b*n)\n",
    "    for i in range(a*n):\n",
    "        for j in range(b*n):\n",
    "            B[i][j] = A[i%n][j%n]\n",
    "    return B\n"
   ]
  },
  {
   "cell_type": "code",
   "execution_count": 7,
   "metadata": {},
   "outputs": [
    {
     "name": "stdout",
     "output_type": "stream",
     "text": [
      "[[1, 0], [0, 1]]\n",
      "[[701408733, 1134903170], [1134903170, 1836311903]]\n",
      "[[1134903170, 1836311903], [1836311903, 2971215073]]\n"
     ]
    }
   ],
   "source": [
    "#ex4\n",
    "def exponaif(A,n):\n",
    "    if n == 0 :\n",
    "        return matriceUnite(len(A))\n",
    "    elif n == 1 :\n",
    "        return A\n",
    "    else :\n",
    "        return produitMatrice(A,exponaif(A,n-1))\n",
    "A = [[0,1],[1,1]]\n",
    "print(exponaif(A,0))\n",
    "print(exponaif(A,45))\n",
    "print(exponaif(A,46))"
   ]
  },
  {
   "cell_type": "markdown",
   "metadata": {},
   "source": [
    "<p>le plus grand entier relatif que l'on puisse coder sur 32bits en utilisant le codage par complément à deux est:<br>\n",
    "\"2**(32-1) -1 = 2147483647\"<br>\n",
    "D'une manière générale sur n bits, l'intervalle de codage est :<br>\n",
    "                     <center>\"[-2**(n-1) , 2**(n-1) -1]\"</center>\n",
    "</p>"
   ]
  },
  {
   "cell_type": "code",
   "execution_count": 12,
   "metadata": {},
   "outputs": [
    {
     "data": {
      "text/plain": [
       "1012580477"
      ]
     },
     "execution_count": 12,
     "metadata": {},
     "output_type": "execute_result"
    }
   ],
   "source": [
    "2**(32-1)-1-exponaif(A,45)[1][0]"
   ]
  },
  {
   "cell_type": "code",
   "execution_count": 19,
   "metadata": {},
   "outputs": [
    {
     "data": {
      "text/plain": [
       "311171744"
      ]
     },
     "execution_count": 19,
     "metadata": {},
     "output_type": "execute_result"
    }
   ],
   "source": [
    "2**(32-1)-1-exponaif(A,45)[1][1]"
   ]
  },
  {
   "cell_type": "markdown",
   "metadata": {},
   "source": [
    "Donc x et y peuvent etre representés sur 32bits"
   ]
  },
  {
   "cell_type": "code",
   "execution_count": 15,
   "metadata": {},
   "outputs": [
    {
     "data": {
      "text/plain": [
       "-823731426"
      ]
     },
     "execution_count": 15,
     "metadata": {},
     "output_type": "execute_result"
    }
   ],
   "source": [
    "(2**(32-1)-1) - (exponaif(A,45)[1][0]+exponaif(A,45)[1][1])"
   ]
  },
  {
   "cell_type": "markdown",
   "metadata": {},
   "source": [
    "Donc x+y ne peut pas etre representé sur 32bits"
   ]
  },
  {
   "cell_type": "code",
   "execution_count": 24,
   "metadata": {},
   "outputs": [
    {
     "name": "stdout",
     "output_type": "stream",
     "text": [
      "[[1 0]\n",
      " [0 1]]\n",
      "[[ 701408733 1134903170]\n",
      " [1134903170 1836311903]]\n",
      "[[ 1134903170  1836311903]\n",
      " [ 1836311903 -1323752223]]\n"
     ]
    }
   ],
   "source": [
    "import numpy as np \n",
    "A = [[0,1],[1,1]]\n",
    "print(np.linalg.matrix_power(A,0))\n",
    "print(np.linalg.matrix_power(A,45))\n",
    "print(np.linalg.matrix_power(A,46))"
   ]
  },
  {
   "cell_type": "markdown",
   "metadata": {},
   "source": [
    "<p>ici on trouve les meme resultats, mais pour le deuxieme coefficient de la deuxieme ligne de la matrice A**45 est ecrit differemment car il ne peut pas etre ecrit sur 32bits</p> "
   ]
  },
  {
   "cell_type": "code",
   "execution_count": 26,
   "metadata": {},
   "outputs": [
    {
     "name": "stdout",
     "output_type": "stream",
     "text": [
      "[[1134903170 1836311903]\n",
      " [1836311903 2971215073]]\n"
     ]
    }
   ],
   "source": [
    "A = np.array([[0,1],[1,1]],dtype = np.int64)\n",
    "print(np.linalg.matrix_power(A,46))"
   ]
  },
  {
   "cell_type": "markdown",
   "metadata": {},
   "source": [
    "maintenant en travail sur du 64bits alors le coefficient c'est affiché"
   ]
  },
  {
   "cell_type": "markdown",
   "metadata": {},
   "source": [
    "----------------------------------------------------------------------------"
   ]
  },
  {
   "cell_type": "markdown",
   "metadata": {},
   "source": [
    "\n",
    "<p>ex5<br>\n",
    "pour x**8 : <br>\n",
    "<center>    on trouvera &nbsp;&nbsp;&nbsp; x**8 = ((x²)²)²<br></center>\n",
    "    càd : <br><center>\n",
    "         on calcule  &nbsp;&nbsp;&nbsp;&nbsp;&nbsp;&nbsp;&nbsp;   x*x &nbsp;&nbsp;&nbsp;&nbsp;&nbsp;&nbsp;&nbsp;  a = x*x <br>\n",
    "         apres        &nbsp;&nbsp;&nbsp;&nbsp;&nbsp;&nbsp;&nbsp;  a*a &nbsp;&nbsp;&nbsp;&nbsp;  b = a*a <br>\n",
    "         et finalement &nbsp;&nbsp;&nbsp;&nbsp;&nbsp;&nbsp;&nbsp; b*b            <br></center>\n",
    "    donc on fait que 3 multiplications <br>\n",
    "donc moins de multiplications par rapport à la methode naïve \n",
    "</p>"
   ]
  },
  {
   "cell_type": "code",
   "execution_count": 27,
   "metadata": {},
   "outputs": [],
   "source": [
    "def expoRapRec(A,n):\n",
    "    if n == 0:\n",
    "        return matriceUnite(len(A))\n",
    "    else :\n",
    "        if n%2==0:\n",
    "            \n",
    "            return expoRapRec(np.linalg.matrix_power(A,2),n/2)\n",
    "            \n",
    "        else: \n",
    "            \n",
    "            return produitMatrice(A,expoRapRec(np.linalg.matrix_power(A,2),(n-1)/2))"
   ]
  },
  {
   "cell_type": "code",
   "execution_count": 31,
   "metadata": {},
   "outputs": [
    {
     "name": "stdout",
     "output_type": "stream",
     "text": [
      "[[701408733, 1134903170], [1134903170, 1836311903]]\n"
     ]
    }
   ],
   "source": [
    "A = [[0,1],[1,1]]\n",
    "print(expoRapRec(A,45))"
   ]
  },
  {
   "cell_type": "markdown",
   "metadata": {},
   "source": [
    "------------------------------------------------------------------------------"
   ]
  },
  {
   "cell_type": "markdown",
   "metadata": {},
   "source": [
    "<p>ex6<br> \n",
    "une matrice A qui verifie X_n+1 = A X_n <br>\n",
    "A = [[0,1],[1,1]]<br>"
   ]
  },
  {
   "cell_type": "code",
   "execution_count": 35,
   "metadata": {},
   "outputs": [
    {
     "name": "stdout",
     "output_type": "stream",
     "text": [
      "[[7778742049, 12586269025], [12586269025, 20365011074]]\n"
     ]
    }
   ],
   "source": [
    "A = np.array([[0,1],[1,1]],dtype = np.int64)\n",
    "print(expoRapRec(A,50))"
   ]
  },
  {
   "cell_type": "markdown",
   "metadata": {},
   "source": [
    "<p><center> X_50 = A * X_49 <br>\n",
    "    X_50 = A * A * X_48 <br>\n",
    "    ... <br>\n",
    "    X_50 = A**50 * X_0\n",
    "    </center></p>"
   ]
  },
  {
   "cell_type": "code",
   "execution_count": 39,
   "metadata": {},
   "outputs": [
    {
     "data": {
      "text/plain": [
       "12586269025"
      ]
     },
     "execution_count": 39,
     "metadata": {},
     "output_type": "execute_result"
    }
   ],
   "source": [
    "\n",
    "Q = produitMatrice(expoRapRec(A,50),[[0],[1]])\n",
    "Q[0][0]"
   ]
  },
  {
   "cell_type": "code",
   "execution_count": 42,
   "metadata": {},
   "outputs": [],
   "source": [
    "def fiboMat(n):\n",
    "    if n == 0:\n",
    "        return 0\n",
    "    elif n == 1:\n",
    "        return 1\n",
    "    else :\n",
    "        return produitMatrice(expoRapRec(A,n),[[0],[1]])[0][0]"
   ]
  },
  {
   "cell_type": "code",
   "execution_count": null,
   "metadata": {},
   "outputs": [],
   "source": []
  }
 ],
 "metadata": {
  "kernelspec": {
   "display_name": "Python 3",
   "language": "python",
   "name": "python3"
  },
  "language_info": {
   "codemirror_mode": {
    "name": "ipython",
    "version": 3
   },
   "file_extension": ".py",
   "mimetype": "text/x-python",
   "name": "python",
   "nbconvert_exporter": "python",
   "pygments_lexer": "ipython3",
   "version": "3.8.3"
  }
 },
 "nbformat": 4,
 "nbformat_minor": 4
}
